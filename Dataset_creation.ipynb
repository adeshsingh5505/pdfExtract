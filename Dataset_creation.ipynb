{
  "nbformat": 4,
  "nbformat_minor": 0,
  "metadata": {
    "colab": {
      "provenance": [],
      "authorship_tag": "ABX9TyNP5jdjlgy+mCjURM3r1n7W",
      "include_colab_link": true
    },
    "kernelspec": {
      "name": "python3",
      "display_name": "Python 3"
    },
    "language_info": {
      "name": "python"
    }
  },
  "cells": [
    {
      "cell_type": "markdown",
      "metadata": {
        "id": "view-in-github",
        "colab_type": "text"
      },
      "source": [
        "<a href=\"https://colab.research.google.com/github/adeshsingh5505/pdfExtract/blob/main/Dataset_creation.ipynb\" target=\"_parent\"><img src=\"https://colab.research.google.com/assets/colab-badge.svg\" alt=\"Open In Colab\"/></a>"
      ]
    },
    {
      "cell_type": "code",
      "execution_count": 4,
      "metadata": {
        "id": "RSFlxcSaVPmQ"
      },
      "outputs": [],
      "source": [
        "import pandas as pd\n",
        "\n",
        "# Load the CSV file\n",
        "df = pd.read_csv(\"/content/output (1).csv\")\n",
        "\n",
        "# Define the values you want to match in columns C and D\n",
        "value_D = \"value_D\"\n",
        "value_C = \"value_C\"\n",
        "\n",
        "# Create condition (D == value_D) and (C == value_C)\n",
        "mask = (df.iloc[:, 3] == \"TimesTen-Roman\") & (df.iloc[:, 2] == 10)\n",
        "\n",
        "# Fill column K (index 10) with desired value, e.g., \"MATCHED\"\n",
        "df.iloc[mask, 10] = \"Other\"\n",
        "# Save the updated CSV\n",
        "df.to_csv(\"output.csv\", index=False)\n"
      ]
    },
    {
      "cell_type": "code",
      "source": [
        "import pandas as pd\n",
        "\n",
        "# Load CSV\n",
        "df = pd.read_csv(\"/content/output.csv\")\n",
        "\n",
        "# Count empty cells in column K (index 10)\n",
        "empty_k_count = df.iloc[:, 10].isna().sum() + (df.iloc[:, 10].astype(str).str.strip() == \"\").sum()\n",
        "\n",
        "print(\"Number of empty cells in column K:\", empty_k_count)\n"
      ],
      "metadata": {
        "colab": {
          "base_uri": "https://localhost:8080/"
        },
        "id": "yJIK-wdcbXt7",
        "outputId": "db6e36cb-efa6-4687-b191-775b63e989f1"
      },
      "execution_count": 5,
      "outputs": [
        {
          "output_type": "stream",
          "name": "stdout",
          "text": [
            "Number of empty cells in column K: 18703\n"
          ]
        }
      ]
    }
  ]
}